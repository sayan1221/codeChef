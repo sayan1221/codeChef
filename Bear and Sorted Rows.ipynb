{
 "cells": [
  {
   "cell_type": "code",
   "execution_count": 2,
   "id": "25d2657a",
   "metadata": {},
   "outputs": [
    {
     "name": "stdout",
     "output_type": "stream",
     "text": [
      "4\n",
      "2 8 12 14\n",
      "2 8 12 14 5 13 1 10\n",
      "1 5 10 13 16 7 6 4\n",
      "4 6 7 16 3 15 11 9\n",
      "3 9 11 15 "
     ]
    }
   ],
   "source": [
    "for _ in range(int(input())):\n",
    "    l=list(map(int,input().split()))\n",
    "    for j in sorted(l): print(j,end=\" \")\n",
    "        "
   ]
  },
  {
   "cell_type": "code",
   "execution_count": null,
   "id": "e792d4a8",
   "metadata": {},
   "outputs": [],
   "source": []
  }
 ],
 "metadata": {
  "kernelspec": {
   "display_name": "Python 3",
   "language": "python",
   "name": "python3"
  },
  "language_info": {
   "codemirror_mode": {
    "name": "ipython",
    "version": 3
   },
   "file_extension": ".py",
   "mimetype": "text/x-python",
   "name": "python",
   "nbconvert_exporter": "python",
   "pygments_lexer": "ipython3",
   "version": "3.8.8"
  }
 },
 "nbformat": 4,
 "nbformat_minor": 5
}
