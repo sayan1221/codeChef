{
 "cells": [
  {
   "cell_type": "code",
   "execution_count": 5,
   "id": "8e8b957e",
   "metadata": {},
   "outputs": [
    {
     "name": "stdout",
     "output_type": "stream",
     "text": [
      "3\n",
      "ADCB BDCA\n",
      "ADCB BDCA\n",
      "YES\n",
      "XXYYZ XXZ\n",
      "XXYYZ XXZ\n",
      "NO\n",
      "MNOPMNOP ONNPM\n",
      "MNOPMNOP ONNPM\n",
      "YES\n"
     ]
    }
   ],
   "source": [
    "t=int(input())\n",
    "for _ in range(t):\n",
    "    a,b=map(str,input().split())\n",
    "    f=0\n",
    "    print(a,b)\n",
    "    for i in range(len(a)):\n",
    "        if(a[i] in b):\n",
    "            f=f+1\n",
    "    if(len(a)==f):\n",
    "        print(\"YES\")\n",
    "    else:\n",
    "        print(\"NO\")"
   ]
  },
  {
   "cell_type": "code",
   "execution_count": 13,
   "id": "9c055af0",
   "metadata": {},
   "outputs": [
    {
     "name": "stdout",
     "output_type": "stream",
     "text": [
      "3\n",
      "ADCB BDCA\n",
      "YES\n",
      "XXYYZ XXZ\n",
      "NO\n",
      "MNOPMNOP ONNPM\n",
      "YES\n"
     ]
    }
   ],
   "source": [
    "for _ in range(int(input())):\n",
    "    a,b=map(str,input().split())\n",
    "    f=0\n",
    "    for i in range(len(a)):\n",
    "        if(a[i] not in b):\n",
    "            f=1\n",
    "    if(f==0):\n",
    "        print(\"YES\")\n",
    "    else:\n",
    "        print(\"NO\")"
   ]
  },
  {
   "cell_type": "code",
   "execution_count": null,
   "id": "9d975a8a",
   "metadata": {},
   "outputs": [],
   "source": []
  }
 ],
 "metadata": {
  "kernelspec": {
   "display_name": "Python 3",
   "language": "python",
   "name": "python3"
  },
  "language_info": {
   "codemirror_mode": {
    "name": "ipython",
    "version": 3
   },
   "file_extension": ".py",
   "mimetype": "text/x-python",
   "name": "python",
   "nbconvert_exporter": "python",
   "pygments_lexer": "ipython3",
   "version": "3.8.8"
  }
 },
 "nbformat": 4,
 "nbformat_minor": 5
}
