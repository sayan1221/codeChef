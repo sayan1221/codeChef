{
 "cells": [
  {
   "cell_type": "code",
   "execution_count": 2,
   "id": "d9a4ec90",
   "metadata": {},
   "outputs": [
    {
     "name": "stdout",
     "output_type": "stream",
     "text": [
      "2\n",
      "1 7\n",
      "NO\n",
      "7 1\n",
      "YES\n"
     ]
    }
   ],
   "source": [
    "for _ in range(int(input())):\n",
    "    x,y=map(int,input().split())\n",
    "    if(x==y or x>y):\n",
    "        print(\"YES\")\n",
    "    elif(x<y):\n",
    "        print(\"NO\")"
   ]
  },
  {
   "cell_type": "code",
   "execution_count": null,
   "id": "a89e9fe6",
   "metadata": {},
   "outputs": [],
   "source": []
  }
 ],
 "metadata": {
  "kernelspec": {
   "display_name": "Python 3",
   "language": "python",
   "name": "python3"
  },
  "language_info": {
   "codemirror_mode": {
    "name": "ipython",
    "version": 3
   },
   "file_extension": ".py",
   "mimetype": "text/x-python",
   "name": "python",
   "nbconvert_exporter": "python",
   "pygments_lexer": "ipython3",
   "version": "3.8.8"
  }
 },
 "nbformat": 4,
 "nbformat_minor": 5
}
