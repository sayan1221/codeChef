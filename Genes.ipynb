{
 "cells": [
  {
   "cell_type": "code",
   "execution_count": 3,
   "id": "886d12ba",
   "metadata": {},
   "outputs": [
    {
     "name": "stdout",
     "output_type": "stream",
     "text": [
      "B B\n",
      "B\n"
     ]
    }
   ],
   "source": [
    "l=list(map(str,input().split()))\n",
    "if(l[0]=='R' or l[1]=='R'):\n",
    "    print('R')\n",
    "elif(l[0]=='B' or l[1]=='B'):\n",
    "    print('B')\n",
    "else:\n",
    "    print('G')"
   ]
  },
  {
   "cell_type": "code",
   "execution_count": null,
   "id": "26945afb",
   "metadata": {},
   "outputs": [],
   "source": []
  },
  {
   "cell_type": "code",
   "execution_count": null,
   "id": "b208a7ef",
   "metadata": {},
   "outputs": [],
   "source": []
  }
 ],
 "metadata": {
  "kernelspec": {
   "display_name": "Python 3",
   "language": "python",
   "name": "python3"
  },
  "language_info": {
   "codemirror_mode": {
    "name": "ipython",
    "version": 3
   },
   "file_extension": ".py",
   "mimetype": "text/x-python",
   "name": "python",
   "nbconvert_exporter": "python",
   "pygments_lexer": "ipython3",
   "version": "3.8.8"
  }
 },
 "nbformat": 4,
 "nbformat_minor": 5
}
