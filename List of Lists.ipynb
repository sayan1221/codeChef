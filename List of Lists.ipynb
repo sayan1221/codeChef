{
 "cells": [
  {
   "cell_type": "code",
   "execution_count": 32,
   "id": "a8e63cb5",
   "metadata": {},
   "outputs": [
    {
     "name": "stdout",
     "output_type": "stream",
     "text": [
      "1\n",
      "2\n",
      "1 2\n",
      "-1\n"
     ]
    }
   ],
   "source": [
    "for _ in range(0,int(input())):\n",
    "    x=int(input())\n",
    "    l=list(map(int,input().split()))\n",
    "    if(len(l)==1):\n",
    "        print(\"0\")\n",
    "    else:\n",
    "        c=1\n",
    "        c=l.count(l[0])\n",
    "        if(len(l)==c):\n",
    "            print(\"0\")\n",
    "        elif(c!=1):\n",
    "            no=len(l)-c+1\n",
    "            print(no)\n",
    "        else:\n",
    "            print(\"-1\")\n",
    "    t=t-1     \n",
    "                "
   ]
  },
  {
   "cell_type": "code",
   "execution_count": null,
   "id": "03738292",
   "metadata": {},
   "outputs": [],
   "source": []
  },
  {
   "cell_type": "code",
   "execution_count": null,
   "id": "e9127351",
   "metadata": {},
   "outputs": [],
   "source": []
  },
  {
   "cell_type": "code",
   "execution_count": null,
   "id": "f7efad24",
   "metadata": {},
   "outputs": [],
   "source": []
  }
 ],
 "metadata": {
  "kernelspec": {
   "display_name": "Python 3",
   "language": "python",
   "name": "python3"
  },
  "language_info": {
   "codemirror_mode": {
    "name": "ipython",
    "version": 3
   },
   "file_extension": ".py",
   "mimetype": "text/x-python",
   "name": "python",
   "nbconvert_exporter": "python",
   "pygments_lexer": "ipython3",
   "version": "3.8.8"
  }
 },
 "nbformat": 4,
 "nbformat_minor": 5
}
