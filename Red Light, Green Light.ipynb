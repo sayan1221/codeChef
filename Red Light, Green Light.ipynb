{
 "cells": [
  {
   "cell_type": "code",
   "execution_count": 1,
   "id": "d051a3d0",
   "metadata": {},
   "outputs": [
    {
     "name": "stdout",
     "output_type": "stream",
     "text": [
      "3\n",
      "4 10\n",
      "2 13 4 16\n",
      "2\n",
      "5 8\n",
      "9 3 8 8 4\n",
      "1\n",
      "4 6\n",
      "1 2 3 4\n",
      "0\n"
     ]
    }
   ],
   "source": [
    "def check(a,l):\n",
    "    c=0\n",
    "    for i in range(0,len(l)):\n",
    "        if(a<l[i]):\n",
    "            c+=1\n",
    "    return c\n",
    "\n",
    "for _ in range(int(input())):\n",
    "    x=list(map(int,input().split()))\n",
    "    l=list(map(int,input().split()))\n",
    "    z=check(x[1],l)\n",
    "    print(z)"
   ]
  },
  {
   "cell_type": "code",
   "execution_count": null,
   "id": "81e7b167",
   "metadata": {},
   "outputs": [],
   "source": []
  }
 ],
 "metadata": {
  "kernelspec": {
   "display_name": "Python 3",
   "language": "python",
   "name": "python3"
  },
  "language_info": {
   "codemirror_mode": {
    "name": "ipython",
    "version": 3
   },
   "file_extension": ".py",
   "mimetype": "text/x-python",
   "name": "python",
   "nbconvert_exporter": "python",
   "pygments_lexer": "ipython3",
   "version": "3.8.8"
  }
 },
 "nbformat": 4,
 "nbformat_minor": 5
}
