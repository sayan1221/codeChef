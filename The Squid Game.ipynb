{
 "cells": [
  {
   "cell_type": "code",
   "execution_count": 4,
   "id": "d62f0ccd",
   "metadata": {},
   "outputs": [
    {
     "name": "stdout",
     "output_type": "stream",
     "text": [
      "2\n",
      "5\n",
      "1 1 1 1 1\n",
      "4\n",
      "6\n",
      "3 6 4 2 5 1\n",
      "20\n"
     ]
    }
   ],
   "source": [
    "def check(l):\n",
    "    for i in range(0,len(l)):\n",
    "        if(l[0]!=l[i]):\n",
    "            return 1\n",
    "    return 0\n",
    "\n",
    "for i in range(int(input())):\n",
    "    x=int(input())\n",
    "    l=list(map(int,input().split()))\n",
    "    if(check(l)==0):\n",
    "        z=sum(l)-l[0]\n",
    "        print(z)\n",
    "    else:\n",
    "        x=min(l)\n",
    "        z=sum(l)-x\n",
    "        print(z)"
   ]
  },
  {
   "cell_type": "code",
   "execution_count": null,
   "id": "46daf89b",
   "metadata": {},
   "outputs": [],
   "source": []
  }
 ],
 "metadata": {
  "kernelspec": {
   "display_name": "Python 3",
   "language": "python",
   "name": "python3"
  },
  "language_info": {
   "codemirror_mode": {
    "name": "ipython",
    "version": 3
   },
   "file_extension": ".py",
   "mimetype": "text/x-python",
   "name": "python",
   "nbconvert_exporter": "python",
   "pygments_lexer": "ipython3",
   "version": "3.8.8"
  }
 },
 "nbformat": 4,
 "nbformat_minor": 5
}
