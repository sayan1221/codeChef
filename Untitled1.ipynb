{
 "cells": [
  {
   "cell_type": "code",
   "execution_count": 4,
   "id": "9e6d99de",
   "metadata": {
    "scrolled": true
   },
   "outputs": [
    {
     "name": "stdout",
     "output_type": "stream",
     "text": [
      "2\n",
      "3\n",
      "2 2\n",
      "4\n",
      "3\n",
      "5 3 2\n",
      "17\n"
     ]
    }
   ],
   "source": [
    "for _ in range(int(input ())):\n",
    "    x=int(input())\n",
    "    s=list(map(int,input().split()))\n",
    "    s.sort()    \n",
    "    p=(s[0]*s[1])+(max(s[0],s[1])-min(s[0],s[1]))\n",
    "    q=(s[-1]*s[-2])+(max(s[-1],s[-2])-min(s[-1],s[-2]))\n",
    "    print(max(p,q))"
   ]
  },
  {
   "cell_type": "code",
   "execution_count": null,
   "id": "ed6002f2",
   "metadata": {},
   "outputs": [],
   "source": []
  }
 ],
 "metadata": {
  "kernelspec": {
   "display_name": "Python 3",
   "language": "python",
   "name": "python3"
  },
  "language_info": {
   "codemirror_mode": {
    "name": "ipython",
    "version": 3
   },
   "file_extension": ".py",
   "mimetype": "text/x-python",
   "name": "python",
   "nbconvert_exporter": "python",
   "pygments_lexer": "ipython3",
   "version": "3.8.8"
  }
 },
 "nbformat": 4,
 "nbformat_minor": 5
}
