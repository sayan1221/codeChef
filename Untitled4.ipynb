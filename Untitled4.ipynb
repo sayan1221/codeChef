{
 "cells": [
  {
   "cell_type": "code",
   "execution_count": 1,
   "id": "7ff839cf",
   "metadata": {},
   "outputs": [
    {
     "name": "stdout",
     "output_type": "stream",
     "text": [
      "2\n",
      "enter value:1\n",
      "enter value:2\n",
      "NOT READY\n"
     ]
    }
   ],
   "source": [
    "uu=ll=0\n",
    "for i in range(int(input())):\n",
    "    a=int(input())\n",
    "    if(a % 2==0):\n",
    "        ll+=1;\n",
    "    else:\n",
    "        uu+=1\n",
    "if(ll>uu):\n",
    "    print(\"READY FOR BATTLE\")\n",
    "else:\n",
    "    print(\"NOT READY\")"
   ]
  },
  {
   "cell_type": "code",
   "execution_count": null,
   "id": "f5b99322",
   "metadata": {},
   "outputs": [],
   "source": []
  }
 ],
 "metadata": {
  "kernelspec": {
   "display_name": "Python 3",
   "language": "python",
   "name": "python3"
  },
  "language_info": {
   "codemirror_mode": {
    "name": "ipython",
    "version": 3
   },
   "file_extension": ".py",
   "mimetype": "text/x-python",
   "name": "python",
   "nbconvert_exporter": "python",
   "pygments_lexer": "ipython3",
   "version": "3.8.8"
  }
 },
 "nbformat": 4,
 "nbformat_minor": 5
}
