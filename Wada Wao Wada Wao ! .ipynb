{
 "cells": [
  {
   "cell_type": "code",
   "execution_count": 14,
   "id": "e068010f",
   "metadata": {},
   "outputs": [
    {
     "name": "stdout",
     "output_type": "stream",
     "text": [
      "4\n",
      "4\n",
      "5 2 1 3\n",
      "4\n",
      "3\n",
      "1 2 3\n",
      "2\n",
      "5\n",
      "3 2 1 7 7\n",
      "6\n",
      "3\n",
      "2 4 5\n",
      "3\n"
     ]
    }
   ],
   "source": [
    "t=int(input())\n",
    "l=[]\n",
    "for _ in range(0,t):\n",
    "    x=int(input())\n",
    "    l=list(map(int,input().split()))\n",
    "    mi=min(l)\n",
    "    mx=max(l)\n",
    "    print(mx-mi)"
   ]
  },
  {
   "cell_type": "code",
   "execution_count": null,
   "id": "60ee8312",
   "metadata": {},
   "outputs": [],
   "source": []
  }
 ],
 "metadata": {
  "kernelspec": {
   "display_name": "Python 3",
   "language": "python",
   "name": "python3"
  },
  "language_info": {
   "codemirror_mode": {
    "name": "ipython",
    "version": 3
   },
   "file_extension": ".py",
   "mimetype": "text/x-python",
   "name": "python",
   "nbconvert_exporter": "python",
   "pygments_lexer": "ipython3",
   "version": "3.8.8"
  }
 },
 "nbformat": 4,
 "nbformat_minor": 5
}
