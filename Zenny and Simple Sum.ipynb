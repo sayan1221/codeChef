{
 "cells": [
  {
   "cell_type": "code",
   "execution_count": 12,
   "id": "1033b28d",
   "metadata": {},
   "outputs": [
    {
     "name": "stdout",
     "output_type": "stream",
     "text": [
      "2\n",
      "5\n",
      "-1 1 -1 0 -2\n",
      "1 -3\n",
      "6\n",
      "4 5 3 3 -1 -2\n",
      "12 -3\n"
     ]
    }
   ],
   "source": [
    "for _ in range(int(input())):\n",
    "    x=int(input())\n",
    "    l=list(map(int,input().split()))\n",
    "    p=[]\n",
    "    n=[]\n",
    "    for j in range(0,len(l)):\n",
    "        if(l[j] > 0):\n",
    "            if(l[j] not in p):\n",
    "                p.append(l[j])\n",
    "        else:\n",
    "            if(l[j] not in n):\n",
    "                n.append(l[j])\n",
    "    print(f\"{sum(p)} {sum(n)}\")"
   ]
  },
  {
   "cell_type": "code",
   "execution_count": 14,
   "id": "555e3bc9",
   "metadata": {},
   "outputs": [
    {
     "name": "stdout",
     "output_type": "stream",
     "text": [
      "2\n",
      "5\n",
      "-1 1 -1 0 -2\n",
      "1 -3\n",
      "6\n",
      "4 5 3 3 -1 -2\n",
      "12 -3\n"
     ]
    }
   ],
   "source": [
    "t=int(input ()) \n",
    "for i in range(0,t):\n",
    "    n=int(input()) \n",
    "    p=[]\n",
    "    s=[]\n",
    "    l=list(map(int,input().split()))\n",
    "    for i in l:\n",
    "        if(i>0):\n",
    "            if(i not in p):\n",
    "                p.append(i)\n",
    "        else:\n",
    "            if(i not in s):\n",
    "                s.append(i)\n",
    "    print(f\"{sum(p)} {sum(s)}\");"
   ]
  },
  {
   "cell_type": "code",
   "execution_count": null,
   "id": "33cff13c",
   "metadata": {},
   "outputs": [],
   "source": []
  }
 ],
 "metadata": {
  "kernelspec": {
   "display_name": "Python 3",
   "language": "python",
   "name": "python3"
  },
  "language_info": {
   "codemirror_mode": {
    "name": "ipython",
    "version": 3
   },
   "file_extension": ".py",
   "mimetype": "text/x-python",
   "name": "python",
   "nbconvert_exporter": "python",
   "pygments_lexer": "ipython3",
   "version": "3.8.8"
  }
 },
 "nbformat": 4,
 "nbformat_minor": 5
}
