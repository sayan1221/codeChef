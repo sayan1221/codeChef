{
 "cells": [
  {
   "cell_type": "code",
   "execution_count": 1,
   "id": "1f8e3b92",
   "metadata": {},
   "outputs": [
    {
     "name": "stdout",
     "output_type": "stream",
     "text": [
      "Enter test 2\n",
      "5 55\n",
      "crash\n",
      "66 6\n",
      "safe\n"
     ]
    }
   ],
   "source": [
    "t=int(input(\"Enter test \"))\n",
    "for i in range(0,t):\n",
    "    a,b=map(int,input().split())\n",
    "    if a%b !=0:\n",
    "        print(\"crash\")\n",
    "    else:\n",
    "        print(\"safe\")"
   ]
  },
  {
   "cell_type": "code",
   "execution_count": null,
   "id": "295825aa",
   "metadata": {},
   "outputs": [],
   "source": []
  },
  {
   "cell_type": "code",
   "execution_count": null,
   "id": "d8ac5f4f",
   "metadata": {},
   "outputs": [],
   "source": []
  }
 ],
 "metadata": {
  "kernelspec": {
   "display_name": "Python 3",
   "language": "python",
   "name": "python3"
  },
  "language_info": {
   "codemirror_mode": {
    "name": "ipython",
    "version": 3
   },
   "file_extension": ".py",
   "mimetype": "text/x-python",
   "name": "python",
   "nbconvert_exporter": "python",
   "pygments_lexer": "ipython3",
   "version": "3.8.8"
  }
 },
 "nbformat": 4,
 "nbformat_minor": 5
}
