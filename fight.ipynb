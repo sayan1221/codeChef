{
 "cells": [
  {
   "cell_type": "code",
   "execution_count": 2,
   "id": "2a09997d",
   "metadata": {},
   "outputs": [
    {
     "name": "stdout",
     "output_type": "stream",
     "text": [
      "Enter size : 3\n",
      "Enter : 1 2 8 6 4\n",
      "READY FOR BATTLE\n"
     ]
    }
   ],
   "source": [
    "n=int(input(\"Enter size : \"))\n",
    "x=list(map(int,input(\"Enter : \").split()))\n",
    "o = len(list(filter(lambda x: (x%2 != 0) , x)))\n",
    "e = len(list(filter(lambda x: (x%2 == 0) , x)))\n",
    "if e>o:\n",
    "    print(\"READY FOR BATTLE\")\n",
    "else:\n",
    "    print(\"NOT READY\")"
   ]
  },
  {
   "cell_type": "code",
   "execution_count": null,
   "id": "b0ae7a6a",
   "metadata": {},
   "outputs": [],
   "source": []
  }
 ],
 "metadata": {
  "kernelspec": {
   "display_name": "Python 3",
   "language": "python",
   "name": "python3"
  },
  "language_info": {
   "codemirror_mode": {
    "name": "ipython",
    "version": 3
   },
   "file_extension": ".py",
   "mimetype": "text/x-python",
   "name": "python",
   "nbconvert_exporter": "python",
   "pygments_lexer": "ipython3",
   "version": "3.8.8"
  }
 },
 "nbformat": 4,
 "nbformat_minor": 5
}
