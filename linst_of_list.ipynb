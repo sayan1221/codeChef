{
 "cells": [
  {
   "cell_type": "code",
   "execution_count": 3,
   "id": "bffe2c32",
   "metadata": {},
   "outputs": [
    {
     "name": "stdout",
     "output_type": "stream",
     "text": [
      "Enter size : 2\n",
      "Enter t:2\n",
      "Enter v: 3\n",
      "Enter v: 6\n",
      "Enter t:5\n",
      "Enter v: 2\n",
      "Enter v: 3\n",
      "Enter v: 5\n",
      "Enter v: 6\n",
      "Enter v: 4\n",
      "[[3, 6], [2, 3, 5, 6, 4]]\n"
     ]
    }
   ],
   "source": [
    "n=int(input(\"Enter size : \"))\n",
    "b=[]\n",
    "for i in range(0,n):\n",
    "    a=[]\n",
    "    x=int(input(\"Enter t:\"))\n",
    "    for i in range(0,x):\n",
    "        y=int(input(\"Enter v: \"))\n",
    "        a.append(y)\n",
    "    b.append(a)\n",
    "print(b)"
   ]
  },
  {
   "cell_type": "code",
   "execution_count": null,
   "id": "439bac00",
   "metadata": {},
   "outputs": [],
   "source": []
  }
 ],
 "metadata": {
  "kernelspec": {
   "display_name": "Python 3",
   "language": "python",
   "name": "python3"
  },
  "language_info": {
   "codemirror_mode": {
    "name": "ipython",
    "version": 3
   },
   "file_extension": ".py",
   "mimetype": "text/x-python",
   "name": "python",
   "nbconvert_exporter": "python",
   "pygments_lexer": "ipython3",
   "version": "3.8.8"
  }
 },
 "nbformat": 4,
 "nbformat_minor": 5
}
