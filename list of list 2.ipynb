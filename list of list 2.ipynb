{
 "cells": [
  {
   "cell_type": "code",
   "execution_count": 7,
   "id": "7c07f156",
   "metadata": {},
   "outputs": [
    {
     "name": "stdout",
     "output_type": "stream",
     "text": [
      "2\n",
      "2\n",
      "1\n",
      "2\n",
      "-1\n",
      "3\n",
      "1\n",
      "1\n",
      "2\n",
      "2\n"
     ]
    }
   ],
   "source": [
    "for _ in range(0,int(input())):\n",
    "    n=int(input())\n",
    "    a=[]\n",
    "#     a=list(map(int,input().split()))\n",
    "    for i in range(0,n):\n",
    "        a.append(int(input()))\n",
    "    mx=1\n",
    "    c=1\n",
    "#     sort(a,a+n)\n",
    "    for i in range(1,n):\n",
    "        if(a[i]==a[i-1]):\n",
    "            c+=1\n",
    "            mx=max(mx,c)\n",
    "        else:\n",
    "            c=1\n",
    "    if(n==mx):\n",
    "        print(0)\n",
    "        continue\n",
    "    if(mx==1):\n",
    "        print(-1)\n",
    "        continue\n",
    "    print((n-mx)+1)\n",
    "    "
   ]
  },
  {
   "cell_type": "code",
   "execution_count": null,
   "id": "21daac01",
   "metadata": {},
   "outputs": [],
   "source": []
  }
 ],
 "metadata": {
  "kernelspec": {
   "display_name": "Python 3",
   "language": "python",
   "name": "python3"
  },
  "language_info": {
   "codemirror_mode": {
    "name": "ipython",
    "version": 3
   },
   "file_extension": ".py",
   "mimetype": "text/x-python",
   "name": "python",
   "nbconvert_exporter": "python",
   "pygments_lexer": "ipython3",
   "version": "3.8.8"
  }
 },
 "nbformat": 4,
 "nbformat_minor": 5
}
