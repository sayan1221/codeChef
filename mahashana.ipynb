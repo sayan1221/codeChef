{
 "cells": [
  {
   "cell_type": "code",
   "execution_count": 46,
   "id": "3e8643b7",
   "metadata": {},
   "outputs": [
    {
     "name": "stdout",
     "output_type": "stream",
     "text": [
      "Enter size : 4\n",
      "Enter : 5 2 4 8\n",
      "READY FOR BATTLE\n"
     ]
    }
   ],
   "source": [
    "n=int(input(\"Enter size : \"))\n",
    "x=list(map(int,input(\"Enter : \").split()))\n",
    "c1=c2=0\n",
    "for i in x:\n",
    "    if(i%2==0):\n",
    "        c1+=1\n",
    "    else:\n",
    "        c2+=1\n",
    "if c1>c2:\n",
    "    print(\"READY FOR BATTLE\")\n",
    "else:\n",
    "    print(\"NOT READY\")"
   ]
  },
  {
   "cell_type": "code",
   "execution_count": 44,
   "id": "5362677e",
   "metadata": {},
   "outputs": [
    {
     "name": "stdout",
     "output_type": "stream",
     "text": [
      "READY FOR BATTLE\n"
     ]
    }
   ],
   "source": []
  },
  {
   "cell_type": "code",
   "execution_count": null,
   "id": "94618067",
   "metadata": {},
   "outputs": [],
   "source": []
  },
  {
   "cell_type": "code",
   "execution_count": null,
   "id": "023ef58f",
   "metadata": {},
   "outputs": [],
   "source": []
  }
 ],
 "metadata": {
  "kernelspec": {
   "display_name": "Python 3",
   "language": "python",
   "name": "python3"
  },
  "language_info": {
   "codemirror_mode": {
    "name": "ipython",
    "version": 3
   },
   "file_extension": ".py",
   "mimetype": "text/x-python",
   "name": "python",
   "nbconvert_exporter": "python",
   "pygments_lexer": "ipython3",
   "version": "3.8.8"
  }
 },
 "nbformat": 4,
 "nbformat_minor": 5
}
